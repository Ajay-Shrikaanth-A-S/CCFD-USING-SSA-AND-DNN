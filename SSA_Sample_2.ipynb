{
  "nbformat": 4,
  "nbformat_minor": 0,
  "metadata": {
    "colab": {
      "provenance": []
    },
    "kernelspec": {
      "name": "python3",
      "display_name": "Python 3"
    },
    "language_info": {
      "name": "python"
    }
  },
  "cells": [
    {
      "cell_type": "code",
      "source": [
        "import pandas as pd\n",
        "import numpy as np\n",
        "import matplotlib.pyplot as plt\n",
        "import seaborn as sns\n",
        "import tensorflow as tf\n",
        "\n",
        "from sklearn.model_selection import train_test_split\n",
        "from sklearn.preprocessing import StandardScaler\n",
        "from tensorflow.keras.models import Sequential\n",
        "from tensorflow.keras.layers import Dense,Flatten,Conv1D,BatchNormalization,Dropout\n",
        "\n",
        "import tensorflow as tf\n",
        "from tensorflow.keras.models import Sequential\n",
        "from tensorflow.keras.layers import Conv1D, Flatten, Dense, Dropout"
      ],
      "metadata": {
        "id": "33aMlJebtYQD"
      },
      "execution_count": null,
      "outputs": []
    },
    {
      "cell_type": "code",
      "source": [
        "credit =pd.read_csv(\"/content/Sample_Train3.csv\")\n",
        "print(credit.head())"
      ],
      "metadata": {
        "colab": {
          "base_uri": "https://localhost:8080/"
        },
        "id": "sDHZRGmltiyz",
        "outputId": "72dd56af-835c-437a-9707-f6853070e064"
      },
      "execution_count": null,
      "outputs": [
        {
          "output_type": "stream",
          "name": "stdout",
          "text": [
            "   distance_from_home  distance_from_last_transaction  \\\n",
            "0           57.877857                        0.311140   \n",
            "1           10.829943                        0.175592   \n",
            "2            5.091079                        0.805153   \n",
            "3            2.247564                        5.600044   \n",
            "4           44.190936                        0.566486   \n",
            "\n",
            "   ratio_to_median_purchase_price  repeat_retailer  used_chip  \\\n",
            "0                        1.945940                1          1   \n",
            "1                        1.294219                1          0   \n",
            "2                        0.427715                1          0   \n",
            "3                        0.362663                1          1   \n",
            "4                        2.222767                1          1   \n",
            "\n",
            "   used_pin_number  online_order  fraud  \n",
            "0                0             0      0  \n",
            "1                0             0      0  \n",
            "2                0             1      0  \n",
            "3                0             1      0  \n",
            "4                0             1      0  \n"
          ]
        }
      ]
    },
    {
      "cell_type": "code",
      "source": [
        "print(credit.isnull().sum())\n",
        "print(credit['fraud'].value_counts())"
      ],
      "metadata": {
        "colab": {
          "base_uri": "https://localhost:8080/"
        },
        "id": "T7uV8-bPttwH",
        "outputId": "1eb05d44-0000-4f30-bc97-e61db95e3a10"
      },
      "execution_count": null,
      "outputs": [
        {
          "output_type": "stream",
          "name": "stdout",
          "text": [
            "distance_from_home                0\n",
            "distance_from_last_transaction    0\n",
            "ratio_to_median_purchase_price    0\n",
            "repeat_retailer                   0\n",
            "used_chip                         0\n",
            "used_pin_number                   0\n",
            "online_order                      0\n",
            "fraud                             0\n",
            "dtype: int64\n",
            "fraud\n",
            "0    18285\n",
            "1     1715\n",
            "Name: count, dtype: int64\n"
          ]
        }
      ]
    },
    {
      "cell_type": "code",
      "source": [
        "non_fraud = credit[credit['fraud'] == 0]\n",
        "fraud = credit[credit['fraud'] == 1]\n",
        "print(credit['fraud'].value_counts())"
      ],
      "metadata": {
        "colab": {
          "base_uri": "https://localhost:8080/"
        },
        "id": "11NC9XuttvXY",
        "outputId": "2fce76b2-e427-4f1d-c948-74fe215a8d3f"
      },
      "execution_count": null,
      "outputs": [
        {
          "output_type": "stream",
          "name": "stdout",
          "text": [
            "fraud\n",
            "0    18285\n",
            "1     1715\n",
            "Name: count, dtype: int64\n"
          ]
        }
      ]
    },
    {
      "cell_type": "code",
      "source": [
        "print(non_fraud.shape, fraud.shape)\n",
        "credit = pd.concat([fraud, non_fraud], ignore_index=True)\n",
        "print(credit.head())"
      ],
      "metadata": {
        "colab": {
          "base_uri": "https://localhost:8080/"
        },
        "id": "f7nQC51DtwsG",
        "outputId": "04e9ce7e-d4a7-4be9-9995-579c0f6a27c4"
      },
      "execution_count": null,
      "outputs": [
        {
          "output_type": "stream",
          "name": "stdout",
          "text": [
            "(18285, 8) (1715, 8)\n",
            "   distance_from_home  distance_from_last_transaction  \\\n",
            "0            2.131956                       56.372401   \n",
            "1            3.803057                       67.241081   \n",
            "2           15.694986                      175.989182   \n",
            "3           26.711462                        1.552008   \n",
            "4           10.664474                        1.565769   \n",
            "\n",
            "   ratio_to_median_purchase_price  repeat_retailer  used_chip  \\\n",
            "0                        6.358667                1          0   \n",
            "1                        1.872950                1          0   \n",
            "2                        0.855623                1          0   \n",
            "3                        4.603601                1          1   \n",
            "4                        4.886521                1          0   \n",
            "\n",
            "   used_pin_number  online_order  fraud  \n",
            "0                0             1      1  \n",
            "1                0             1      1  \n",
            "2                0             1      1  \n",
            "3                0             1      1  \n",
            "4                0             1      1  \n"
          ]
        }
      ]
    },
    {
      "cell_type": "code",
      "source": [
        "# now dividing the dataframe into dependent and independent variables\n",
        "scaler = StandardScaler()\n",
        "X = scaler.fit_transform(credit.drop(['fraud'], axis=1))\n",
        "y = credit['fraud']\n",
        "\n",
        "# check the shape\n",
        "print(X.shape, y.shape)"
      ],
      "metadata": {
        "colab": {
          "base_uri": "https://localhost:8080/"
        },
        "id": "zD6IV28EtysA",
        "outputId": "2cdb3845-4928-408d-f4a9-7d37bd4c30b6"
      },
      "execution_count": null,
      "outputs": [
        {
          "output_type": "stream",
          "name": "stdout",
          "text": [
            "(20000, 7) (20000,)\n"
          ]
        }
      ]
    },
    {
      "cell_type": "code",
      "source": [
        "class SalpSwarmAlgorithm:\n",
        "    def __init__(self, objective_function, dim, population_size, max_iter):\n",
        "        self.objective_function = objective_function\n",
        "        self.dim = dim\n",
        "        self.population_size = population_size\n",
        "        self.max_iter = max_iter\n",
        "\n",
        "    def run_with_logging(self):\n",
        "        # Initialize population with random values between 0 and 1\n",
        "        population = np.random.rand(self.population_size, self.dim)\n",
        "        best_pos = np.zeros(self.dim)\n",
        "        best_cost = float('inf')\n",
        "\n",
        "        # Dictionary to store costs for each iteration\n",
        "        costs = []\n",
        "\n",
        "        for iter in range(self.max_iter):\n",
        "            for i in range(self.population_size):\n",
        "                # Calculate the cost for the current position\n",
        "                cost = self.objective_function(population[i, :])\n",
        "\n",
        "                # Update the best position and cost\n",
        "                if cost < best_cost:\n",
        "                    best_cost = cost\n",
        "                    best_pos = population[i, :]\n",
        "\n",
        "                # Log the cost for the current position\n",
        "                costs.append((iter, cost, population[i, :]))\n",
        "\n",
        "            # Perform SSA update (example, not actual implementation)\n",
        "            # Update population positions based on SSA logic\n",
        "\n",
        "            # Logging the best cost at each iteration\n",
        "            print(f\"Iter {iter + 1}/{self.max_iter}, Best Cost: {best_cost}\")\n",
        "\n",
        "        return best_pos, best_cost, costs\n"
      ],
      "metadata": {
        "id": "P_EkHMsot14S"
      },
      "execution_count": null,
      "outputs": []
    },
    {
      "cell_type": "code",
      "source": [
        "def objective_function(feature_subset):\n",
        "    selected_features = np.where(feature_subset > 0.5)[0]  # Use a threshold to select features\n",
        "    if len(selected_features) == 0:\n",
        "        return 1e6  # Penalize empty selection\n",
        "    if len(selected_features) < 2:  # Example penalty for selecting too few features\n",
        "        return 1e5\n",
        "\n",
        "    # Convert X to a Pandas DataFrame for using .iloc\n",
        "    X_df = pd.DataFrame(X)  # Create a DataFrame from the NumPy array X\n",
        "    X_selected = X_df.iloc[:, selected_features]  # Now you can use .iloc\n",
        "    X_train, X_test, y_train, y_test = train_test_split(X_selected, y, test_size=0.2, random_state=99)\n",
        "\n",
        "    model = Sequential([\n",
        "        Conv1D(filters=64, kernel_size=1, activation='relu', input_shape=(X_train.shape[1], 1)),\n",
        "        Dropout(0.5),\n",
        "        Flatten(),\n",
        "        Dense(64, activation='relu'),\n",
        "        Dropout(0.5),\n",
        "        Dense(1, activation='sigmoid')\n",
        "    ])\n",
        "    model.compile(optimizer='adam', loss='binary_crossentropy', metrics=['accuracy'])\n",
        "    history = model.fit(X_train, y_train, epochs=5, verbose=0)\n",
        "    loss, accuracy = model.evaluate(X_test, y_test, verbose=0)\n",
        "    return 1 - accuracy\n"
      ],
      "metadata": {
        "id": "17Arb2Ert798"
      },
      "execution_count": null,
      "outputs": []
    },
    {
      "cell_type": "code",
      "source": [
        "# Parameters for SalpSwarmAlgorithm\n",
        "dim = X.shape[1]  # Number of features\n",
        "population_size = 30\n",
        "max_iter = 10\n",
        "\n",
        "# Instantiate and run the algorithm\n",
        "ssa = SalpSwarmAlgorithm(objective_function, dim, population_size, max_iter)\n",
        "best_pos, best_cost, costs = ssa.run_with_logging()\n",
        "\n",
        "print(f\"Best Position: {best_pos}\")\n",
        "print(f\"Best Cost: {best_cost}\")"
      ],
      "metadata": {
        "colab": {
          "base_uri": "https://localhost:8080/"
        },
        "id": "tRu7jwPGt9-S",
        "outputId": "d0abcd9d-afb1-4804-dde5-2353fd0eb0e9"
      },
      "execution_count": null,
      "outputs": [
        {
          "output_type": "stream",
          "name": "stdout",
          "text": [
            "Iter 1/10, Best Cost: 0.006749987602233887\n",
            "Iter 2/10, Best Cost: 0.0065000057220458984\n",
            "Iter 3/10, Best Cost: 0.0065000057220458984\n",
            "Iter 4/10, Best Cost: 0.0065000057220458984\n",
            "Iter 5/10, Best Cost: 0.0065000057220458984\n",
            "Iter 6/10, Best Cost: 0.0065000057220458984\n",
            "Iter 7/10, Best Cost: 0.0065000057220458984\n",
            "Iter 8/10, Best Cost: 0.0065000057220458984\n",
            "Iter 9/10, Best Cost: 0.0065000057220458984\n",
            "Iter 10/10, Best Cost: 0.0065000057220458984\n",
            "Best Position: [0.60150125 0.75453052 0.75402769 0.24250971 0.96736753 0.76544144\n",
            " 0.9314709 ]\n",
            "Best Cost: 0.0065000057220458984\n"
          ]
        }
      ]
    },
    {
      "cell_type": "code",
      "source": [
        "# Update the dataset with selected features\n",
        "X_df = pd.DataFrame(X)  # Convert X to a Pandas DataFrame\n",
        "\n",
        "# Calculate selected features based on best_pos (assuming best_pos is available from previous code)\n",
        "threshold = 0.5\n",
        "best_features_binary = best_pos > threshold\n",
        "selected_features = np.where(best_features_binary)[0]\n",
        "\n",
        "X_selected = X_df.iloc[:, selected_features] # Now you can use .iloc for indexing"
      ],
      "metadata": {
        "id": "TUVmZ1WMuJsc"
      },
      "execution_count": null,
      "outputs": []
    },
    {
      "cell_type": "code",
      "source": [
        "# Split the data into training and testing sets\n",
        "X_train, X_test, y_train, y_test = train_test_split(X_selected, y, test_size=0.2, random_state=99)\n",
        "\n",
        "# Standardize the data\n",
        "scaler = StandardScaler()\n",
        "X_train = scaler.fit_transform(X_train)\n",
        "X_test = scaler.transform(X_test)\n",
        "\n",
        "# Reshape the data to fit the CNN input requirements\n",
        "X_train = X_train.reshape(X_train.shape[0], X_train.shape[1], 1)\n",
        "X_test = X_test.reshape(X_test.shape[0], X_test.shape[1], 1)\n",
        "\n",
        "print(\"Training data shape:\", X_train.shape)\n",
        "print(\"Testing data shape:\", X_test.shape)\n"
      ],
      "metadata": {
        "colab": {
          "base_uri": "https://localhost:8080/"
        },
        "id": "OvQC9ro_uLxm",
        "outputId": "a4347530-46a2-4a71-92d8-d69fecde475d"
      },
      "execution_count": null,
      "outputs": [
        {
          "output_type": "stream",
          "name": "stdout",
          "text": [
            "Training data shape: (16000, 6, 1)\n",
            "Testing data shape: (4000, 6, 1)\n"
          ]
        }
      ]
    },
    {
      "cell_type": "code",
      "source": [
        "import tensorflow as tf\n",
        "from tensorflow.keras.models import Sequential\n",
        "from tensorflow.keras.layers import Dense, Flatten, Dropout\n",
        "from tensorflow.keras.metrics import Precision, Recall, AUC\n",
        "\n",
        "# Define the model\n",
        "model = Sequential()\n",
        "\n",
        "# Input layer\n",
        "model.add(Flatten(input_shape=(X_train.shape[1], 1)))\n",
        "\n",
        "# Add hidden layers\n",
        "model.add(Dense(64, activation='relu'))\n",
        "model.add(Dense(32, activation='relu'))\n",
        "model.add(Dropout(0.5))\n",
        "\n",
        "# Fully connected layer\n",
        "model.add(Dense(64, activation='relu'))\n",
        "model.add(Dropout(0.5))\n",
        "\n",
        "# Output layer\n",
        "model.add(Dense(1, activation='sigmoid'))\n",
        "\n",
        "# Compile the model with additional metrics\n",
        "model.compile(optimizer='adam',\n",
        "              loss='binary_crossentropy',\n",
        "              metrics=['accuracy', Precision(), Recall(), AUC()])\n",
        "\n",
        "# Print the model summary\n",
        "model.summary()\n",
        "\n",
        "# Train the model\n",
        "history = model.fit(X_train, y_train, epochs=20, validation_data=(X_test, y_test))\n",
        "\n",
        "# Evaluate the model on the test set\n",
        "results = model.evaluate(X_test, y_test)\n",
        "\n",
        "# Extract the metrics\n",
        "test_loss = results[0]\n",
        "test_accuracy = results[1]\n",
        "test_precision = results[2]\n",
        "test_recall = results[3]\n",
        "test_auc = results[4]\n",
        "\n",
        "# Calculate F1 score\n",
        "test_f1_score = 2 * (test_precision * test_recall) / (test_precision + test_recall)\n",
        "\n",
        "print(f\"Test Loss: {test_loss}\")\n",
        "print(f\"Test Accuracy: {test_accuracy}\")\n",
        "print(f\"Test Precision: {test_precision}\")\n",
        "print(f\"Test Recall: {test_recall}\")\n",
        "print(f\"Test AUC: {test_auc}\")\n",
        "print(f\"Test F1 Score: {test_f1_score}\")\n"
      ],
      "metadata": {
        "colab": {
          "base_uri": "https://localhost:8080/"
        },
        "id": "24jmfTlJGAqs",
        "outputId": "e0d712a0-b3b6-4d3f-defd-febc364deb3e"
      },
      "execution_count": null,
      "outputs": [
        {
          "output_type": "stream",
          "name": "stdout",
          "text": [
            "Model: \"sequential_280\"\n",
            "_________________________________________________________________\n",
            " Layer (type)                Output Shape              Param #   \n",
            "=================================================================\n",
            " flatten_280 (Flatten)       (None, 6)                 0         \n",
            "                                                                 \n",
            " dense_560 (Dense)           (None, 64)                448       \n",
            "                                                                 \n",
            " dense_561 (Dense)           (None, 32)                2080      \n",
            "                                                                 \n",
            " dropout_560 (Dropout)       (None, 32)                0         \n",
            "                                                                 \n",
            " dense_562 (Dense)           (None, 64)                2112      \n",
            "                                                                 \n",
            " dropout_561 (Dropout)       (None, 64)                0         \n",
            "                                                                 \n",
            " dense_563 (Dense)           (None, 1)                 65        \n",
            "                                                                 \n",
            "=================================================================\n",
            "Total params: 4705 (18.38 KB)\n",
            "Trainable params: 4705 (18.38 KB)\n",
            "Non-trainable params: 0 (0.00 Byte)\n",
            "_________________________________________________________________\n",
            "Epoch 1/20\n",
            "500/500 [==============================] - 3s 4ms/step - loss: 0.1393 - accuracy: 0.9419 - precision: 0.8605 - recall: 0.3737 - auc: 0.9595 - val_loss: 0.0596 - val_accuracy: 0.9870 - val_precision: 0.9210 - val_recall: 0.9363 - val_auc: 0.9959\n",
            "Epoch 2/20\n",
            "500/500 [==============================] - 2s 3ms/step - loss: 0.0603 - accuracy: 0.9821 - precision: 0.9002 - recall: 0.8863 - auc: 0.9895 - val_loss: 0.0372 - val_accuracy: 0.9887 - val_precision: 0.9788 - val_recall: 0.8947 - val_auc: 0.9955\n",
            "Epoch 3/20\n",
            "500/500 [==============================] - 2s 5ms/step - loss: 0.0470 - accuracy: 0.9854 - precision: 0.9199 - recall: 0.9069 - auc: 0.9918 - val_loss: 0.0317 - val_accuracy: 0.9915 - val_precision: 0.9940 - val_recall: 0.9114 - val_auc: 0.9959\n",
            "Epoch 4/20\n",
            "500/500 [==============================] - 2s 4ms/step - loss: 0.0353 - accuracy: 0.9877 - precision: 0.9367 - recall: 0.9173 - auc: 0.9954 - val_loss: 0.0259 - val_accuracy: 0.9920 - val_precision: 0.9940 - val_recall: 0.9169 - val_auc: 0.9963\n",
            "Epoch 5/20\n",
            "500/500 [==============================] - 1s 3ms/step - loss: 0.0345 - accuracy: 0.9888 - precision: 0.9414 - recall: 0.9254 - auc: 0.9957 - val_loss: 0.0242 - val_accuracy: 0.9930 - val_precision: 1.0000 - val_recall: 0.9224 - val_auc: 0.9977\n",
            "Epoch 6/20\n",
            "500/500 [==============================] - 1s 3ms/step - loss: 0.0326 - accuracy: 0.9895 - precision: 0.9459 - recall: 0.9291 - auc: 0.9960 - val_loss: 0.0237 - val_accuracy: 0.9918 - val_precision: 0.9633 - val_recall: 0.9446 - val_auc: 0.9986\n",
            "Epoch 7/20\n",
            "500/500 [==============================] - 1s 3ms/step - loss: 0.0312 - accuracy: 0.9899 - precision: 0.9461 - recall: 0.9343 - auc: 0.9962 - val_loss: 0.0189 - val_accuracy: 0.9940 - val_precision: 0.9971 - val_recall: 0.9363 - val_auc: 0.9992\n",
            "Epoch 8/20\n",
            "500/500 [==============================] - 2s 3ms/step - loss: 0.0296 - accuracy: 0.9902 - precision: 0.9524 - recall: 0.9306 - auc: 0.9964 - val_loss: 0.0214 - val_accuracy: 0.9925 - val_precision: 0.9940 - val_recall: 0.9224 - val_auc: 0.9990\n",
            "Epoch 9/20\n",
            "500/500 [==============================] - 2s 3ms/step - loss: 0.0279 - accuracy: 0.9907 - precision: 0.9554 - recall: 0.9335 - auc: 0.9969 - val_loss: 0.0236 - val_accuracy: 0.9918 - val_precision: 1.0000 - val_recall: 0.9086 - val_auc: 0.9964\n",
            "Epoch 10/20\n",
            "500/500 [==============================] - 2s 3ms/step - loss: 0.0265 - accuracy: 0.9919 - precision: 0.9623 - recall: 0.9417 - auc: 0.9970 - val_loss: 0.0202 - val_accuracy: 0.9933 - val_precision: 1.0000 - val_recall: 0.9252 - val_auc: 0.9992\n",
            "Epoch 11/20\n",
            "500/500 [==============================] - 2s 4ms/step - loss: 0.0279 - accuracy: 0.9906 - precision: 0.9526 - recall: 0.9350 - auc: 0.9971 - val_loss: 0.0182 - val_accuracy: 0.9937 - val_precision: 0.9970 - val_recall: 0.9335 - val_auc: 0.9993\n",
            "Epoch 12/20\n",
            "500/500 [==============================] - 2s 5ms/step - loss: 0.0266 - accuracy: 0.9907 - precision: 0.9582 - recall: 0.9306 - auc: 0.9980 - val_loss: 0.0207 - val_accuracy: 0.9915 - val_precision: 0.9795 - val_recall: 0.9252 - val_auc: 0.9991\n",
            "Epoch 13/20\n",
            "500/500 [==============================] - 2s 3ms/step - loss: 0.0260 - accuracy: 0.9916 - precision: 0.9656 - recall: 0.9343 - auc: 0.9979 - val_loss: 0.0188 - val_accuracy: 0.9927 - val_precision: 0.9940 - val_recall: 0.9252 - val_auc: 0.9994\n",
            "Epoch 14/20\n",
            "500/500 [==============================] - 1s 3ms/step - loss: 0.0246 - accuracy: 0.9921 - precision: 0.9730 - recall: 0.9328 - auc: 0.9982 - val_loss: 0.0255 - val_accuracy: 0.9937 - val_precision: 0.9941 - val_recall: 0.9363 - val_auc: 0.9990\n",
            "Epoch 15/20\n",
            "500/500 [==============================] - 1s 3ms/step - loss: 0.0258 - accuracy: 0.9912 - precision: 0.9578 - recall: 0.9380 - auc: 0.9975 - val_loss: 0.0215 - val_accuracy: 0.9925 - val_precision: 0.9715 - val_recall: 0.9446 - val_auc: 0.9991\n",
            "Epoch 16/20\n",
            "500/500 [==============================] - 2s 3ms/step - loss: 0.0243 - accuracy: 0.9916 - precision: 0.9642 - recall: 0.9350 - auc: 0.9976 - val_loss: 0.0175 - val_accuracy: 0.9940 - val_precision: 0.9941 - val_recall: 0.9391 - val_auc: 0.9993\n",
            "Epoch 17/20\n",
            "500/500 [==============================] - 2s 3ms/step - loss: 0.0222 - accuracy: 0.9929 - precision: 0.9755 - recall: 0.9394 - auc: 0.9981 - val_loss: 0.0166 - val_accuracy: 0.9927 - val_precision: 0.9882 - val_recall: 0.9307 - val_auc: 0.9995\n",
            "Epoch 18/20\n",
            "500/500 [==============================] - 2s 3ms/step - loss: 0.0238 - accuracy: 0.9920 - precision: 0.9665 - recall: 0.9380 - auc: 0.9981 - val_loss: 0.0204 - val_accuracy: 0.9923 - val_precision: 0.9970 - val_recall: 0.9169 - val_auc: 0.9993\n",
            "Epoch 19/20\n",
            "500/500 [==============================] - 2s 4ms/step - loss: 0.0237 - accuracy: 0.9924 - precision: 0.9724 - recall: 0.9365 - auc: 0.9973 - val_loss: 0.0187 - val_accuracy: 0.9925 - val_precision: 0.9797 - val_recall: 0.9363 - val_auc: 0.9993\n",
            "Epoch 20/20\n",
            "500/500 [==============================] - 2s 5ms/step - loss: 0.0210 - accuracy: 0.9924 - precision: 0.9710 - recall: 0.9387 - auc: 0.9990 - val_loss: 0.0183 - val_accuracy: 0.9937 - val_precision: 0.9912 - val_recall: 0.9391 - val_auc: 0.9979\n",
            "125/125 [==============================] - 0s 2ms/step - loss: 0.0183 - accuracy: 0.9937 - precision: 0.9912 - recall: 0.9391 - auc: 0.9979\n",
            "Test Loss: 0.01834970898926258\n",
            "Test Accuracy: 0.9937499761581421\n",
            "Test Precision: 0.9912280440330505\n",
            "Test Recall: 0.9390581846237183\n",
            "Test AUC: 0.9979314208030701\n",
            "Test F1 Score: 0.9644381167507238\n"
          ]
        }
      ]
    }
  ]
}